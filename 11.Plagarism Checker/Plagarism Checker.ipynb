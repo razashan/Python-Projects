{
 "cells": [
  {
   "cell_type": "code",
   "execution_count": 1,
   "id": "6946ac87",
   "metadata": {},
   "outputs": [
    {
     "name": "stderr",
     "output_type": "stream",
     "text": [
      "Unable to create process using 'C:\\Users\\ehtisham raza\\anaconda3\\python.exe \"C:\\Users\\ehtisham raza\\anaconda3\\Scripts\\pip-script.py\" install difflib'\n"
     ]
    }
   ],
   "source": [
    "!pip install difflib"
   ]
  },
  {
   "cell_type": "code",
   "execution_count": 2,
   "id": "0ade97c4",
   "metadata": {},
   "outputs": [],
   "source": [
    "from difflib import SequenceMatcher"
   ]
  },
  {
   "cell_type": "code",
   "execution_count": null,
   "id": "0a556d7f",
   "metadata": {},
   "outputs": [],
   "source": [
    "with open('1.txt') as file1, open('2.txt') as file2:\n",
    "    fil1data = file1.read()\n",
    "    fil2data = file2.read()\n",
    "    similarity = SequenceMatcher(None,fil1data,fil2data).ratio()\n",
    "    print(similarity*100)    "
   ]
  }
 ],
 "metadata": {
  "kernelspec": {
   "display_name": "Python 3",
   "language": "python",
   "name": "python3"
  },
  "language_info": {
   "codemirror_mode": {
    "name": "ipython",
    "version": 3
   },
   "file_extension": ".py",
   "mimetype": "text/x-python",
   "name": "python",
   "nbconvert_exporter": "python",
   "pygments_lexer": "ipython3",
   "version": "3.8.8"
  }
 },
 "nbformat": 4,
 "nbformat_minor": 5
}
